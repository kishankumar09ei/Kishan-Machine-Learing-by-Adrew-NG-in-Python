{
 "cells": [
  {
   "cell_type": "markdown",
   "metadata": {},
   "source": [
    "# Machine Learning - Andrew Ng ( Python Implementation)\n",
    "\n",
    "## Regularized Linear Regression"
   ]
  },
  {
   "cell_type": "markdown",
   "metadata": {},
   "source": [
    "### Loading the data"
   ]
  },
  {
   "cell_type": "code",
   "execution_count": 56,
   "metadata": {},
   "outputs": [],
   "source": [
    "import numpy as np\n",
    "import pandas as pd\n",
    "import matplotlib.pyplot as plt\n",
    "from scipy.io import loadmat\n",
    "import sys"
   ]
  },
  {
   "cell_type": "code",
   "execution_count": 57,
   "metadata": {},
   "outputs": [],
   "source": [
    "# Use loadmat to load matlab files\n",
    "mat=loadmat(\"ex5data1.mat\")"
   ]
  },
  {
   "cell_type": "code",
   "execution_count": 58,
   "metadata": {},
   "outputs": [
    {
     "data": {
      "text/plain": [
       "['X',\n",
       " 'Xtest',\n",
       " 'Xval',\n",
       " '__globals__',\n",
       " '__header__',\n",
       " '__version__',\n",
       " 'y',\n",
       " 'ytest',\n",
       " 'yval']"
      ]
     },
     "execution_count": 58,
     "metadata": {},
     "output_type": "execute_result"
    }
   ],
   "source": [
    "sorted(mat.keys())"
   ]
  },
  {
   "cell_type": "code",
   "execution_count": 110,
   "metadata": {},
   "outputs": [],
   "source": [
    "X=mat['X']\n",
    "y=mat['y']\n",
    "xtest=mat[\"Xtest\"]\n",
    "ytest=mat[\"ytest\"]\n",
    "Xval=mat['Xval']\n",
    "yval=mat[\"yval\"]"
   ]
  },
  {
   "cell_type": "markdown",
   "metadata": {},
   "source": [
    "### Plot the data"
   ]
  },
  {
   "cell_type": "code",
   "execution_count": 111,
   "metadata": {},
   "outputs": [
    {
     "data": {
      "text/plain": [
       "Text(0.5, 1.0, 'X vs y')"
      ]
     },
     "execution_count": 111,
     "metadata": {},
     "output_type": "execute_result"
    },
    {
     "data": {
      "image/png": "[encoded data removed]",
      "text/plain": [
       "<Figure size 432x288 with 1 Axes>"
      ]
     },
     "metadata": {
      "needs_background": "light"
     },
     "output_type": "display_data"
    }
   ],
   "source": [
    "plt.scatter(X,y,marker=\"x\",color='r')\n",
    "plt.xlabel(\"Change in water level\")\n",
    "plt.ylim(0,40)\n",
    "plt.ylabel(\"Water flowing out of the dam\")\n",
    "plt.title(\"X vs y\")"
   ]
  },
  {
   "cell_type": "markdown",
   "metadata": {},
   "source": [
    "### Compute the Regularized Linear Regression Cost Function\n",
    "\n",
    "$J(\\Theta) = \\frac{1}{2m} (\\sum_{i=1}^m(h_\\Theta(x^{(i)}) - y^{(i)})^2) + \\frac{\\lambda}{2m}(\\sum_{j=1}^n \\Theta_j^2)$"
   ]
  },
  {
   "cell_type": "code",
   "execution_count": 112,
   "metadata": {},
   "outputs": [],
   "source": [
    "def linearRegCostFunction(X, y,theta, Lambda):\n",
    "    m=len(y)\n",
    "    \n",
    "    prediction= X @ theta\n",
    "    error= prediction - y\n",
    "    cost=1/(2*m) * np.sum(error** 2)\n",
    "    reg_cost=cost + Lambda/(2 * m)*np.sum(theta[1:]**2)\n",
    "    \n",
    "    # compute the gradient\n",
    "    grad_0= 1/m * X.T @ error\n",
    "    grad_1=1/m * X.T @ error + Lambda/(m)*theta\n",
    "    grad= np.vstack((grad_0[0],grad_1[1:]))\n",
    "    \n",
    "    return reg_cost,grad"
   ]
  },
  {
   "cell_type": "code",
   "execution_count": 113,
   "metadata": {},
   "outputs": [
    {
     "name": "stdout",
     "output_type": "stream",
     "text": [
      "Cost at theta : 303.95569222026427\n",
      "Gradient at theta  [[-15.30301567]\n",
      " [598.17574417]]\n"
     ]
    }
   ],
   "source": [
    "#intialize x, y theta, lambda\n",
    "m=X.shape[0]\n",
    "X_1=np.hstack((np.ones((m,1)),X))\n",
    "theta=np.ones((2,1))\n",
    "Lambda=0.1\n",
    "\n",
    "cost,gradient= linearRegCostFunction(X_1,y,theta,Lambda)\n",
    "print(\"Cost at theta :\",cost)\n",
    "print(\"Gradient at theta \",gradient)"
   ]
  },
  {
   "cell_type": "code",
   "execution_count": 114,
   "metadata": {},
   "outputs": [
    {
     "data": {
      "text/plain": [
       "(12, 2)"
      ]
     },
     "execution_count": 114,
     "metadata": {},
     "output_type": "execute_result"
    }
   ],
   "source": [
    "theta.shape\n",
    "X_1.shape"
   ]
  },
  {
   "cell_type": "markdown",
   "metadata": {},
   "source": [
    "###  Fitting Liner Regression"
   ]
  },
  {
   "cell_type": "code",
   "execution_count": 115,
   "metadata": {},
   "outputs": [],
   "source": [
    "#Calculate Gradient\n",
    "\n",
    "def gradientDescent(X,y,theta,alpha,iters,Lambda):\n",
    "    \n",
    "    m=len(y)\n",
    "    J_history= []\n",
    "    \n",
    "    for i in range(iters):\n",
    "        cost,gradient=linearRegCostFunction(X,y,theta,Lambda)\n",
    "        theta = theta - (alpha*gradient)\n",
    "        J_history.append(cost)\n",
    "        \n",
    "    return theta,J_history"
   ]
  },
  {
   "cell_type": "code",
   "execution_count": 116,
   "metadata": {},
   "outputs": [],
   "source": [
    "# #we set regularization parameter \u0015 to zero. Because our\n",
    "# current implementation of linear regression is trying to \f",
    "t a 2-dimensional \u0012,\n",
    "# regularization will not be incredibly helpful for a \u0012 of such low dimension.\n",
    "\n",
    "Lambda=0\n",
    "theta=np.zeros((2,1))\n",
    "theta,J_history=gradientDescent(X_1,y,theta,0.001,4000,Lambda)"
   ]
  },
  {
   "cell_type": "code",
   "execution_count": 117,
   "metadata": {},
   "outputs": [
    {
     "data": {
      "text/plain": [
       "array([[12.81756012],\n",
       "       [ 0.36615787]])"
      ]
     },
     "execution_count": 117,
     "metadata": {},
     "output_type": "execute_result"
    }
   ],
   "source": [
    "theta"
   ]
  },
  {
   "cell_type": "code",
   "execution_count": 118,
   "metadata": {},
   "outputs": [
    {
     "data": {
      "text/plain": [
       "Text(0.5, 1.0, 'Cost function using Gradient Descent')"
      ]
     },
     "execution_count": 118,
     "metadata": {},
     "output_type": "execute_result"
    },
    {
     "data": {
      "image/png": "[encoded data removed]",
      "text/plain": [
       "<Figure size 432x288 with 1 Axes>"
      ]
     },
     "metadata": {
      "needs_background": "light"
     },
     "output_type": "display_data"
    }
   ],
   "source": [
    "plt.plot(J_history)\n",
    "plt.xlabel(\"Iteration\")\n",
    "plt.ylabel(\"$J(\\Theta)$\")\n",
    "plt.title(\"Cost function using Gradient Descent\")"
   ]
  },
  {
   "cell_type": "code",
   "execution_count": 119,
   "metadata": {},
   "outputs": [],
   "source": [
    "def trainLinearReg(X,theta,Lambda):\n",
    "    y_predict= X @ theta\n",
    "    \n",
    "    return y_predict\n"
   ]
  },
  {
   "cell_type": "code",
   "execution_count": 120,
   "metadata": {},
   "outputs": [],
   "source": [
    "y_prediction=trainLinearReg(X_1,theta,Lambda)"
   ]
  },
  {
   "cell_type": "code",
   "execution_count": 121,
   "metadata": {},
   "outputs": [
    {
     "data": {
      "text/plain": [
       "Text(0.5, 1.0, 'X vs y')"
      ]
     },
     "execution_count": 121,
     "metadata": {},
     "output_type": "execute_result"
    },
    {
     "data": {
      "image/png": "[encoded data removed]",
      "text/plain": [
       "<Figure size 432x288 with 1 Axes>"
      ]
     },
     "metadata": {
      "needs_background": "light"
     },
     "output_type": "display_data"
    }
   ],
   "source": [
    "plt.scatter(X,y,marker=\"x\",color='r')\n",
    "plt.plot(X,y_prediction,c='blue')\n",
    "plt.xlabel(\"Change in water level\")\n",
    "plt.ylim(0,40)\n",
    "plt.xlim(-50,40)\n",
    "plt.ylabel(\"Water flowing out of the dam\")\n",
    "plt.title(\"X vs y\")"
   ]
  },
  {
   "cell_type": "markdown",
   "metadata": {},
   "source": [
    "### Learning Curves"
   ]
  },
  {
   "cell_type": "code",
   "execution_count": 124,
   "metadata": {},
   "outputs": [],
   "source": [
    "validation_set=pd.DataFrame([Xval.reshape((21,)),yval.reshape((21,))]).T"
   ]
  },
  {
   "cell_type": "code",
   "execution_count": 125,
   "metadata": {},
   "outputs": [
    {
     "data": {
      "text/html": [
       "<div>\n",
       "<style scoped>\n",
       "    .dataframe tbody tr th:only-of-type {\n",
       "        vertical-align: middle;\n",
       "    }\n",
       "\n",
       "    .dataframe tbody tr th {\n",
       "        vertical-align: top;\n",
       "    }\n",
       "\n",
       "    .dataframe thead th {\n",
       "        text-align: right;\n",
       "    }\n",
       "</style>\n",
       "<table border=\"1\" class=\"dataframe\">\n",
       "  <thead>\n",
       "    <tr style=\"text-align: right;\">\n",
       "      <th></th>\n",
       "      <th>0</th>\n",
       "      <th>1</th>\n",
       "    </tr>\n",
       "  </thead>\n",
       "  <tbody>\n",
       "    <tr>\n",
       "      <th>0</th>\n",
       "      <td>-16.746536</td>\n",
       "      <td>4.170202</td>\n",
       "    </tr>\n",
       "    <tr>\n",
       "      <th>1</th>\n",
       "      <td>-14.577471</td>\n",
       "      <td>4.067263</td>\n",
       "    </tr>\n",
       "    <tr>\n",
       "      <th>2</th>\n",
       "      <td>34.515759</td>\n",
       "      <td>31.873068</td>\n",
       "    </tr>\n",
       "    <tr>\n",
       "      <th>3</th>\n",
       "      <td>-47.010076</td>\n",
       "      <td>10.623656</td>\n",
       "    </tr>\n",
       "    <tr>\n",
       "      <th>4</th>\n",
       "      <td>36.975119</td>\n",
       "      <td>31.836021</td>\n",
       "    </tr>\n",
       "  </tbody>\n",
       "</table>\n",
       "</div>"
      ],
      "text/plain": [
       "           0          1\n",
       "0 -16.746536   4.170202\n",
       "1 -14.577471   4.067263\n",
       "2  34.515759  31.873068\n",
       "3 -47.010076  10.623656\n",
       "4  36.975119  31.836021"
      ]
     },
     "execution_count": 125,
     "metadata": {},
     "output_type": "execute_result"
    }
   ],
   "source": [
    "validation_set.head()#Just for manual visualization perpose"
   ]
  },
  {
   "cell_type": "code",
   "execution_count": 127,
   "metadata": {},
   "outputs": [],
   "source": [
    "Xval_1=np.hstack((np.ones((21,1)),Xval))"
   ]
  },
  {
   "cell_type": "code",
   "execution_count": 74,
   "metadata": {},
   "outputs": [],
   "source": [
    "def learningCurve(X,y,Xval,yval,Lambda):\n",
    "    \n",
    "    m=len(y)\n",
    "    n=X.shape[1]\n",
    "    error_train,error_val=[],[]\n",
    "    \n",
    "    for i in range(1,m+1):\n",
    "        theta=gradientDescent(X[0:i,:],y[0:i,:],np.zeros((n,1)),0.001,3000,Lambda)[0]\n",
    "        error_train.append(linearRegCostFunction(X[0:i,:],y[0:i,:],theta,Lambda)[0])\n",
    "        error_val.append(linearRegCostFunction(Xval,yval,theta,Lambda)[0])\n",
    "        #print(theta)\n",
    "    \n",
    "    return error_train,error_val\n",
    "    "
   ]
  },
  {
   "cell_type": "code",
   "execution_count": 75,
   "metadata": {},
   "outputs": [
    {
     "ename": "IndentationError",
     "evalue": "unexpected indent (<ipython-input-75-64e5b613d515>, line 2)",
     "output_type": "error",
     "traceback": [
      "\u001b[1;36m  File \u001b[1;32m\"<ipython-input-75-64e5b613d515>\"\u001b[1;36m, line \u001b[1;32m2\u001b[0m\n\u001b[1;33m    \"\"\"\u001b[0m\n\u001b[1;37m    ^\u001b[0m\n\u001b[1;31mIndentationError\u001b[0m\u001b[1;31m:\u001b[0m unexpected indent\n"
     ]
    }
   ],
   "source": [
    "#def learningCurve(X, y, Xval, yval, Lambda):\n",
    "    \"\"\"\n",
    "    Returns the train and cross validation set errors for a learning curve\n",
    "    \"\"\"\n",
    "    m=len(y)\n",
    "    n=X.shape[1]\n",
    "    err_train, err_val = [],[]\n",
    "    \n",
    "    for i in range(1,m+1):\n",
    "        theta = gradientDescent(X[0:i,:],y[0:i,:],np.zeros((n,1)),0.001,3000,Lambda)[0]\n",
    "        err_train.append(linearRegCostFunction(X[0:i,:], y[0:i,:], theta, Lambda)[0])\n",
    "        err_val.append(linearRegCostFunction(Xval, yval, theta, Lambda)[0])\n",
    "        #print(theta)\n",
    "    return err_train, err_val"
   ]
  },
  {
   "cell_type": "code",
   "execution_count": 128,
   "metadata": {},
   "outputs": [],
   "source": [
    "Lambda=0\n",
    "Training_error,validation_error=learningCurve(X_1,y,Xval_1,yval,Lambda)"
   ]
  },
  {
   "cell_type": "code",
   "execution_count": 129,
   "metadata": {},
   "outputs": [
    {
     "data": {
      "text/plain": [
       "(12, 1)"
      ]
     },
     "execution_count": 129,
     "metadata": {},
     "output_type": "execute_result"
    }
   ],
   "source": [
    "X.shape"
   ]
  },
  {
   "cell_type": "code",
   "execution_count": 130,
   "metadata": {},
   "outputs": [
    {
     "data": {
      "text/plain": [
       "<matplotlib.legend.Legend at 0x1a2d11e88d0>"
      ]
     },
     "execution_count": 130,
     "metadata": {},
     "output_type": "execute_result"
    },
    {
     "data": {
      "image/png": "[encoded data removed]",
      "text/plain": [
       "<Figure size 432x288 with 1 Axes>"
      ]
     },
     "metadata": {
      "needs_background": "light"
     },
     "output_type": "display_data"
    }
   ],
   "source": [
    "plt.plot(range(12),Training_error,label=\"Train\")\n",
    "plt.plot(range(12),validation_error,label=\"Cross Validation\",color=\"r\")\n",
    "plt.title(\"Learning Curve for Linear Regression\")\n",
    "plt.xlabel(\"Number of training examples\")\n",
    "plt.ylabel(\"Error\")\n",
    "plt.legend()"
   ]
  },
  {
   "cell_type": "code",
   "execution_count": 131,
   "metadata": {},
   "outputs": [
    {
     "name": "stdout",
     "output_type": "stream",
     "text": [
      "#Training ex 1 \t \t Training error \t \t validation error\n",
      " \t 1 \t \t 9.860761315262648e-32 \t \t 205.1210957454735 \n",
      "\n",
      " \t 2 \t \t 0.26667458269926014 \t \t 164.2535605474932 \n",
      "\n",
      " \t 3 \t \t 3.548185635907084 \t \t 45.54817576824285 \n",
      "\n",
      " \t 4 \t \t 3.1874889363749985 \t \t 50.52763121765736 \n",
      "\n",
      " \t 5 \t \t 13.54362450791914 \t \t 33.8818916785026 \n",
      "\n",
      " \t 6 \t \t 19.77082269208633 \t \t 33.33501763960231 \n",
      "\n",
      " \t 7 \t \t 20.35490053770414 \t \t 32.44949025865311 \n",
      "\n",
      " \t 8 \t \t 18.491367932249474 \t \t 30.897434817077908 \n",
      "\n",
      " \t 9 \t \t 22.864926631607066 \t \t 32.092911163044654 \n",
      "\n",
      " \t 10 \t \t 23.624561039168142 \t \t 29.654014029816686 \n",
      "\n",
      " \t 11 \t \t 24.604608486625352 \t \t 30.890073919404443 \n",
      "\n",
      " \t 12 \t \t 22.620437267861497 \t \t 30.554053720180832 \n",
      "\n"
     ]
    }
   ],
   "source": [
    "print(\"#Training ex 1 \\t \\t Training error \\t \\t validation error\")\n",
    "for i in range(1,13):\n",
    "    print(\" \\t {0} \\t \\t {1} \\t \\t {2} \\n\".format(i,Training_error[i-1],validation_error[i-1]))"
   ]
  },
  {
   "cell_type": "markdown",
   "metadata": {},
   "source": [
    "### Polynomial Regression"
   ]
  },
  {
   "cell_type": "code",
   "execution_count": 132,
   "metadata": {},
   "outputs": [],
   "source": [
    "from sklearn.preprocessing import StandardScaler\n",
    "def polyFeatures(X,p):\n",
    "    \n",
    "    for i in range(2,p+1):\n",
    "        X=np.hstack((X,(X[:,0]**i)[:,np.newaxis]))\n",
    "    \n",
    "    return X"
   ]
  },
  {
   "cell_type": "code",
   "execution_count": 133,
   "metadata": {},
   "outputs": [],
   "source": [
    "sc_x=StandardScaler()\n",
    "poly_X=polyFeatures(X,8)\n",
    "poly_X=sc_x.fit_transform(poly_X)\n",
    "poly_X=np.hstack((np.ones((poly_X.shape[0],1)),poly_X))"
   ]
  },
  {
   "cell_type": "code",
   "execution_count": 134,
   "metadata": {},
   "outputs": [],
   "source": [
    "Lambda=0\n",
    "theta=np.zeros((9,1))\n",
    "theta_train,J_history_poly=gradientDescent(poly_X,y,theta,0.3,20000,Lambda)"
   ]
  },
  {
   "cell_type": "code",
   "execution_count": 137,
   "metadata": {},
   "outputs": [],
   "source": [
    "poly_y=trainLinearReg(poly_X,theta_train,Lambda)"
   ]
  },
  {
   "cell_type": "code",
   "execution_count": 139,
   "metadata": {},
   "outputs": [
    {
     "data": {
      "text/plain": [
       "Text(0.5, 1.0, 'X vs y')"
      ]
     },
     "execution_count": 139,
     "metadata": {},
     "output_type": "execute_result"
    },
    {
     "data": {
      "image/png": "[encoded data removed]",
      "text/plain": [
       "<Figure size 432x288 with 1 Axes>"
      ]
     },
     "metadata": {
      "needs_background": "light"
     },
     "output_type": "display_data"
    }
   ],
   "source": [
    "plt.scatter(X,y,marker=\"x\",color='r')\n",
    "plt.plot(X,poly_y,\"--\",c='blue')\n",
    "plt.xlabel(\"Change in water level\")\n",
    "# plt.ylim(-60,60)\n",
    "# plt.xlim(-80,80)\n",
    "plt.ylabel(\"Water flowing out of the dam\")\n",
    "plt.title(\"X vs y\")"
   ]
  },
  {
   "cell_type": "code",
   "execution_count": 92,
   "metadata": {},
   "outputs": [],
   "source": [
    "poly_X_test=polyFeatures(x_test,8)\n",
    "poly_X_test=sc_x.transform(poly_X_test)\n",
    "poly_X_test=np.hstack((np.ones((poly_X_test.shape[0],1)),poly_X_test))"
   ]
  },
  {
   "cell_type": "code",
   "execution_count": 140,
   "metadata": {},
   "outputs": [],
   "source": [
    "poly_X_val=polyFeatures(Xval,8)\n",
    "poly_X_val=sc_x.transform(poly_X_val)\n",
    "poly_X_val=np.hstack((np.ones((poly_X_val.shape[0],1)),poly_X_val))"
   ]
  },
  {
   "cell_type": "code",
   "execution_count": 142,
   "metadata": {},
   "outputs": [],
   "source": [
    "x_value=np.linspace(-55,65,2400)\n",
    "\n",
    "# Map the X values and normalize\n",
    "x_value_poly = polyFeatures(x_value[:,np.newaxis], 8)\n",
    "x_value_poly = sc_x.transform(x_value_poly)\n",
    "x_value_poly = np.hstack((np.ones((x_value_poly.shape[0],1)),x_value_poly))\n",
    "y_val= x_value_poly @ theta_train"
   ]
  },
  {
   "cell_type": "code",
   "execution_count": 165,
   "metadata": {},
   "outputs": [
    {
     "data": {
      "text/plain": [
       "Text(0.5, 1.0, 'X vs y')"
      ]
     },
     "execution_count": 165,
     "metadata": {},
     "output_type": "execute_result"
    },
    {
     "data": {
      "image/png": "[encoded data removed]",
      "text/plain": [
       "<Figure size 432x288 with 1 Axes>"
      ]
     },
     "metadata": {
      "needs_background": "light"
     },
     "output_type": "display_data"
    }
   ],
   "source": [
    "plt.scatter(X,y,marker=\"x\",color='r')\n",
    "plt.plot(x_val,y_val_poly,\"--\",c='blue')\n",
    "plt.xlabel(\"Change in water level\")\n",
    "plt.ylim(-40,40)\n",
    "plt.xlim(-60,66)\n",
    "plt.ylabel(\"Water flowing out of the dam\")\n",
    "plt.title(\"X vs y\")"
   ]
  },
  {
   "cell_type": "code",
   "execution_count": 150,
   "metadata": {},
   "outputs": [],
   "source": [
    "error_train,error_val=learningCurve(poly_X, y, poly_X_val,yval,Lambda)"
   ]
  },
  {
   "cell_type": "code",
   "execution_count": 152,
   "metadata": {},
   "outputs": [
    {
     "data": {
      "text/plain": [
       "<matplotlib.legend.Legend at 0x1a2d141cf28>"
      ]
     },
     "execution_count": 152,
     "metadata": {},
     "output_type": "execute_result"
    },
    {
     "data": {
      "image/png": "[encoded data removed]",
      "text/plain": [
       "<Figure size 432x288 with 1 Axes>"
      ]
     },
     "metadata": {
      "needs_background": "light"
     },
     "output_type": "display_data"
    }
   ],
   "source": [
    "plt.plot(range(12),error_train,color='blue',label=\"training error\")\n",
    "plt.plot(range(12),error_val,color='red',label=\"validation error\")\n",
    "plt.title(\"Learning Curve for Linear Regression\")\n",
    "plt.xlabel(\"Number of training examples\")\n",
    "plt.ylabel(\"Error\")\n",
    "plt.legend()"
   ]
  },
  {
   "cell_type": "code",
   "execution_count": null,
   "metadata": {},
   "outputs": [],
   "source": [
    "### Polynomial regression with lambda = 100"
   ]
  },
  {
   "cell_type": "code",
   "execution_count": 155,
   "metadata": {},
   "outputs": [],
   "source": [
    "Lambda=100\n",
    "theta=np.zeros((9,1))\n",
    "theta_train,J_history_poly=gradientDescent(poly_X,y,theta,0.1,20000,Lambda)"
   ]
  },
  {
   "cell_type": "code",
   "execution_count": 177,
   "metadata": {},
   "outputs": [
    {
     "data": {
      "text/plain": [
       "[<matplotlib.lines.Line2D at 0x1a2d50ecda0>]"
      ]
     },
     "execution_count": 177,
     "metadata": {},
     "output_type": "execute_result"
    },
    {
     "data": {
      "image/png": "[encoded data removed]",
      "text/plain": [
       "<Figure size 432x288 with 1 Axes>"
      ]
     },
     "metadata": {
      "needs_background": "light"
     },
     "output_type": "display_data"
    }
   ],
   "source": [
    "plt.scatter(X,y,marker='x',color='red')\n",
    "plt.xlabel(\"Change in water level\")\n",
    "plt.ylabel(\"Water flowing out of the dam\")\n",
    "X_value=np.linspace(-55,60,2400)\n",
    "\n",
    "X_value_poly=polyFeatures(X_value[:,np.newaxis],8)\n",
    "X_value_poly=sc_x.transform(X_value_poly)\n",
    "X_value_poly=np.hstack((np.ones((X_value_poly.shape[0],1)),X_value_poly))\n",
    "#x_value_poly = np.hstack((np.ones((x_value_poly.shape[0],1)),x_value_poly))\n",
    "y_value=X_value_poly @ theta_train\n",
    "plt.plot(X_value,y_value,\"--\",color='blue')"
   ]
  },
  {
   "cell_type": "code",
   "execution_count": 178,
   "metadata": {},
   "outputs": [
    {
     "data": {
      "text/plain": [
       "<matplotlib.legend.Legend at 0x1a2d5099898>"
      ]
     },
     "execution_count": 178,
     "metadata": {},
     "output_type": "execute_result"
    },
    {
     "data": {
      "image/png": "[encoded data removed]",
      "text/plain": [
       "<Figure size 432x288 with 1 Axes>"
      ]
     },
     "metadata": {
      "needs_background": "light"
     },
     "output_type": "display_data"
    }
   ],
   "source": [
    "error_train,error_val=learningCurve(poly_X, y, poly_X_val,yval,Lambda)\n",
    "plt.plot(range(12),error_train,label=\"Training\")\n",
    "plt.plot(range(12),error_val,label=\"Cross validation\",color='red')\n",
    "plt.title(\"Learning Curve for Linear Regression\")\n",
    "plt.xlabel(\"Number of training examples\")\n",
    "plt.ylabel(\"Error\")\n",
    "plt.legend()"
   ]
  },
  {
   "cell_type": "code",
   "execution_count": null,
   "metadata": {},
   "outputs": [],
   "source": []
  }
 ],
 "metadata": {
  "kernelspec": {
   "display_name": "Python 3",
   "language": "python",
   "name": "python3"
  },
  "language_info": {
   "codemirror_mode": {
    "name": "ipython",
    "version": 3
   },
   "file_extension": ".py",
   "mimetype": "text/x-python",
   "name": "python",
   "nbconvert_exporter": "python",
   "pygments_lexer": "ipython3",
   "version": "3.7.3"
  }
 },
 "nbformat": 4,
 "nbformat_minor": 2
}
